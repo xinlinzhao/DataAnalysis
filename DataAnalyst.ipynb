{
 "cells": [
  {
   "cell_type": "markdown",
   "id": "9c62d36c",
   "metadata": {},
   "source": [
    "# Plot relationship between continues and continues "
   ]
  },
  {
   "cell_type": "code",
   "execution_count": null,
   "id": "4a40224e",
   "metadata": {},
   "outputs": [],
   "source": [
    "plt.scatter(X['sqft_living'], Y)\n",
    "plt.show()"
   ]
  },
  {
   "cell_type": "markdown",
   "id": "19aa390c",
   "metadata": {},
   "source": [
    "# Plot relationship between categorical and categorical"
   ]
  },
  {
   "cell_type": "code",
   "execution_count": null,
   "id": "b00dbda2",
   "metadata": {},
   "outputs": [],
   "source": [
    "pd.crosstab(data.salary, data.left).plot(kind='bar')\n",
    "plt.show()"
   ]
  },
  {
   "cell_type": "code",
   "execution_count": null,
   "id": "5ea2f334",
   "metadata": {},
   "outputs": [],
   "source": [
    "\n",
    "q = pd.crosstab(data.salary, data.left)\n",
    "# print(q)\n",
    "# print(q.sum(1))\n",
    "q.div(q.sum(1), axis = 0).plot(kind = 'bar', stacked = True)\n",
    "plt.show()"
   ]
  },
  {
   "cell_type": "markdown",
   "id": "e9a6b233",
   "metadata": {},
   "source": [
    "# Plot relationship between continues and categorical (distribution)"
   ]
  },
  {
   "cell_type": "code",
   "execution_count": null,
   "id": "b0c1f419",
   "metadata": {},
   "outputs": [],
   "source": [
    "data[data.left==0].satisfaction_level.hist()\n",
    "plt.show()"
   ]
  },
  {
   "cell_type": "markdown",
   "id": "f947583a",
   "metadata": {},
   "source": [
    "# Plot distribution by counting"
   ]
  },
  {
   "cell_type": "code",
   "execution_count": null,
   "id": "05442df0",
   "metadata": {},
   "outputs": [],
   "source": [
    "data.Survived.value_counts().plot(kind='bar')\n",
    "plt.xlabel('Survived')\n",
    "plt.show()"
   ]
  },
  {
   "cell_type": "markdown",
   "id": "87b5c235",
   "metadata": {},
   "source": [
    "# Cross validation"
   ]
  },
  {
   "cell_type": "code",
   "execution_count": null,
   "id": "60dba920",
   "metadata": {},
   "outputs": [],
   "source": [
    "cross_val_score(LogisticRegression(), X, y, scoring='accuracy', cv=10)"
   ]
  },
  {
   "cell_type": "markdown",
   "id": "7653780c",
   "metadata": {},
   "source": [
    "# One-hot encoding VS Dummy variable"
   ]
  },
  {
   "cell_type": "code",
   "execution_count": null,
   "id": "54d83ea8",
   "metadata": {},
   "outputs": [],
   "source": [
    "#One-hot encoding converts it into n variables, while dummy encoding converts it into n-1 variables\n",
    "y, X = dmatrices('Survived~ C(Pclass) + C(Sex) + Age + C(Embarked)', data = data, return_type='dataframe')\n",
    "\n",
    "labels = to_categorical(save_y, number_classes)"
   ]
  },
  {
   "cell_type": "markdown",
   "id": "7052bdb3",
   "metadata": {},
   "source": [
    "# commonly used data query"
   ]
  },
  {
   "cell_type": "code",
   "execution_count": null,
   "id": "2a516b04",
   "metadata": {},
   "outputs": [],
   "source": [
    "df.groupby('date').is_click.mean().reset_index()\n",
    "df_test = df[df['date'] == '2018-09-24']"
   ]
  },
  {
   "cell_type": "code",
   "execution_count": null,
   "id": "75064b3d",
   "metadata": {},
   "outputs": [],
   "source": []
  }
 ],
 "metadata": {
  "kernelspec": {
   "display_name": "Python 3",
   "language": "python",
   "name": "python3"
  },
  "language_info": {
   "codemirror_mode": {
    "name": "ipython",
    "version": 3
   },
   "file_extension": ".py",
   "mimetype": "text/x-python",
   "name": "python",
   "nbconvert_exporter": "python",
   "pygments_lexer": "ipython3",
   "version": "3.8.8"
  }
 },
 "nbformat": 4,
 "nbformat_minor": 5
}
