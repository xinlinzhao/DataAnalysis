{
 "cells": [
  {
   "cell_type": "markdown",
   "id": "70fcfe89",
   "metadata": {},
   "source": [
    "Reference:\n",
    "\n",
    "1. https://machinelearningmastery.com/how-to-visualize-filters-and-feature-maps-in-convolutional-neural-networks/\n",
    "2. https://cs231n.github.io/understanding-cnn/"
   ]
  },
  {
   "cell_type": "markdown",
   "id": "afad0fb5",
   "metadata": {},
   "source": [
    "# Draw ROC curve (AUC)"
   ]
  },
  {
   "cell_type": "code",
   "execution_count": null,
   "id": "9e4ea3fc",
   "metadata": {},
   "outputs": [],
   "source": [
    "from sklearn.metrics import roc_curve, auc\n",
    "\n",
    "#use scores\n",
    "y_score = model.predict(X_test)\n",
    "\n",
    "fpr = dict()\n",
    "tpr = dict()\n",
    "roc_auc = dict()\n",
    "\n",
    "for i in range(nb_classes):\n",
    "    fpr[i], tpr[i], _ = roc_curve(y_test[:, i], y_score[:, i])\n",
    "    roc_auc[i] = auc(fpr[i], tpr[i])\n",
    "\n",
    "for i in range(nb_classes):\n",
    "    plt.figure()\n",
    "    plt.plot(fpr[i], tpr[i], color='orange', label='ROC curve (area = %0.2f)' % roc_auc[i])\n",
    "    plt.plot([0, 1], [0, 1], color='navy', lw=2, linestyle='--')\n",
    "    plt.xlim([0.0, 1.0])\n",
    "    plt.ylim([0.0, 1.05])\n",
    "    plt.xlabel('False Positive Rate')\n",
    "    plt.ylabel('True Positive Rate')\n",
    "    plt.title('ROC - '+ category_names[i])\n",
    "    plt.legend(loc=\"lower right\")\n",
    "    plt.show()"
   ]
  },
  {
   "cell_type": "code",
   "execution_count": null,
   "id": "8c2fba07",
   "metadata": {},
   "outputs": [],
   "source": [
    "#all curves in oen chart\n",
    "plt.figure(figsize=(10,10))\n",
    "\n",
    "colors = ['aqua', 'darkorange', 'cornflowerblue', 'blue', 'orange', 'yellow', 'red', 'green', 'tan', 'black', \n",
    "         'dimgray', 'rosybrown', 'brown', 'silver', 'wheat', 'salmon', 'peru', 'lime', 'plum', 'indigo', \n",
    "         'gold']\n",
    "\n",
    "for i, color in zip(range(number_classes), colors):\n",
    "    plt.plot(fpr[i], tpr[i], color=color, lw=2,\n",
    "             label='ROC curve of class {0} (area = {1:0.2f})'\n",
    "             ''.format(i, roc_auc[i]))\n",
    "plt.plot([0, 1], [0, 1], 'k--', lw=2)\n",
    "plt.xlim([0.0, 1.0])\n",
    "plt.ylim([0.0, 1.05])\n",
    "plt.xlabel('False Positive Rate')\n",
    "plt.ylabel('True Positive Rate')\n",
    "plt.title('Some extension of Receiver operating characteristic to multi-class')\n",
    "plt.legend(loc=\"lower right\")\n",
    "plt.show()"
   ]
  },
  {
   "cell_type": "markdown",
   "id": "a557d821",
   "metadata": {},
   "source": [
    "# Draw Precision-Recall Curve"
   ]
  },
  {
   "cell_type": "code",
   "execution_count": null,
   "id": "b40bb592",
   "metadata": {},
   "outputs": [],
   "source": [
    "precs = []\n",
    "recalls = []\n",
    "scores = model.predict_proba(X)\n",
    "min_score = min([s[1] for s in scores])\n",
    "max_score = max([s[1] for s in scores])\n",
    "for threshold in np.arange(0, 1, 0.01):\n",
    "    # prediction score above threshold is considered as positive\n",
    "    if threshold < min_score or threshold > max_score:\n",
    "        continue\n",
    "    preds = [1 if s[1] >= threshold else 0 for s in scores]\n",
    "    TP = sum([1 for gt, pred in zip(y, preds) if gt == 1 and pred == 1])\n",
    "    FP = sum([1 for gt, pred in zip(y, preds) if gt == 0 and pred == 1])\n",
    "    FN = sum([1 for gt, pred in zip(y, preds) if gt == 1 and pred == 0])\n",
    "    if TP + FP == 0:\n",
    "        precs.append(0.0)\n",
    "    else:\n",
    "        precs.append(TP / (TP + FP + 0.0))\n",
    "    if TP + FN == 0:\n",
    "        recalls.append(0.0)\n",
    "    else:\n",
    "        recalls.append(TP / (TP + FN + 0.0))\n",
    "\n",
    "# plt.plot(recalls, precs, 'bs', ls='-')\n",
    "plt.plot(recalls, precs, ls='-')\n",
    "plt.xlabel('Recall')\n",
    "plt.ylabel('Precision')\n",
    "plt.show()"
   ]
  },
  {
   "cell_type": "markdown",
   "id": "9f194423",
   "metadata": {},
   "source": [
    "# Draw comparison curves of training and validation sets in loss and accuracy"
   ]
  },
  {
   "cell_type": "code",
   "execution_count": null,
   "id": "04f47c7c",
   "metadata": {},
   "outputs": [],
   "source": [
    "def history_plot(model_id, history):\n",
    "    plt.figure(figsize=(8,10)) \n",
    "    # plot loss\n",
    "    plt.subplot(2, 1, 1)\n",
    "    plt.title('Cross Entropy Loss - ' + model_id, fontsize = 12)\n",
    "    plt.plot(history.history['loss'], color='blue', label='train')\n",
    "    plt.plot(history.history['val_loss'], color='orange', label='val')\n",
    "    plt.xlabel(\"Epochs\",fontsize = 12)\n",
    "    plt.ylabel(\"Loss\", fontsize = 12)\n",
    "    plt.legend(loc='upper right')\n",
    "\n",
    "    # plot accuracy\n",
    "    plt.subplot(2, 1, 2)\n",
    "    plt.title('Classification Accuracy ' + model_id, fontsize = 10)\n",
    "    plt.plot(history.history['accuracy'], color='blue', label='train')\n",
    "    plt.plot(history.history['val_accuracy'], color='orange', label='val')\n",
    "    plt.xlabel(\"Epochs\", fontsize = 120)\n",
    "    plt.ylabel(\"Accuracy\", fontsize = 12)\n",
    "    plt.legend(loc='lower right')\n",
    "\n",
    "    plt.show()\n",
    "\n",
    "history_plot('CNN_base', history)"
   ]
  },
  {
   "cell_type": "markdown",
   "id": "457bb83f",
   "metadata": {},
   "source": [
    "# Draw confusion matrix for multi-class problem"
   ]
  },
  {
   "cell_type": "code",
   "execution_count": null,
   "id": "499b4e19",
   "metadata": {},
   "outputs": [],
   "source": [
    "def plot_cm(y_true, y_pred, figsize=(12,10)):\n",
    "    cm = confusion_matrix(y_true, y_pred, labels=np.unique(y_true))\n",
    "    cm_sum = np.sum(cm, axis=1, keepdims=True)\n",
    "    cm_perc = cm / cm_sum.astype(float) * 100\n",
    "    annot = np.empty_like(cm).astype(str)\n",
    "    nrows, ncols = cm.shape\n",
    "    for i in range(nrows):\n",
    "        for j in range(ncols):\n",
    "            c = cm[i, j]\n",
    "            p = cm_perc[i, j]\n",
    "            if i == j:\n",
    "                s = cm_sum[i]\n",
    "                annot[i, j] = '%d/%d' % (c, s)\n",
    "            elif c == 0:\n",
    "                annot[i, j] = ''\n",
    "            elif i<j:\n",
    "                annot[i, j] = '%d' % (c)\n",
    "            else:\n",
    "                annot[i, j] = '%d' % (c)\n",
    "    #cm = pd.DataFrame(cm, index=np.unique(y_true), columns=np.unique(y_true))\n",
    "    cm = pd.DataFrame(cm, index=category_names, columns=category_names)\n",
    "    cm.index.name = 'Actual'\n",
    "    cm.columns.name = 'Predicted'\n",
    "    fig, ax = plt.subplots(figsize=figsize)\n",
    "    sns.set(font_scale=1.4)\n",
    "    sns.heatmap(cm, cmap= \"YlGnBu\", annot=annot, fmt='', ax=ax, annot_kws={\"fontsize\":12})\n",
    "\n",
    "plot_cm( y_test.argmax(axis=1), predictions.argmax(axis=1)) #decode one hot encoding"
   ]
  },
  {
   "cell_type": "markdown",
   "id": "0d7abadb",
   "metadata": {},
   "source": [
    "# Draw filters (CNN)"
   ]
  },
  {
   "cell_type": "markdown",
   "id": "801a74cd",
   "metadata": {},
   "source": [
    "The dark squares indicate small weights and the light squares represent large weights."
   ]
  },
  {
   "cell_type": "code",
   "execution_count": null,
   "id": "c75baf25",
   "metadata": {},
   "outputs": [],
   "source": [
    "# retrieve weights from the first conv layer\n",
    "filters, biases = model.layers[0].get_weights()\n",
    "\n",
    "# normalize filter values to 0-1 so we can visualize them\n",
    "f_min, f_max = filters.min(), filters.max()\n",
    "filters = (filters - f_min) / (f_max - f_min)\n",
    "\n",
    "# plot first 6 filters\n",
    "n_filters, ix = 6, 1\n",
    "\n",
    "for i in range(n_filters):\n",
    "    # get the filter\n",
    "    print('Filter',i)\n",
    "    plt.figure(figsize=(7,40))\n",
    "    f = filters[:, :, :, i]\n",
    "    # plot each channel separately\n",
    "    for j in range(3):\n",
    "        # specify subplot and turn of axis\n",
    "        ax = plt.subplot(n_filters, 3, ix)\n",
    "        ax.set_xticks([])\n",
    "        ax.set_yticks([])\n",
    "        # plot filter channel in grayscale\n",
    "        plt.imshow(f[:, :, j], cmap='gray')\n",
    "        ix += 1\n",
    "    # show the figure\n",
    "    plt.show()"
   ]
  },
  {
   "cell_type": "markdown",
   "id": "98c40f71",
   "metadata": {},
   "source": [
    "# Draw feature maps (CNN)"
   ]
  },
  {
   "cell_type": "code",
   "execution_count": null,
   "id": "dff0be11",
   "metadata": {},
   "outputs": [],
   "source": [
    "#We only need output from the layers before the flatten\n",
    "outputs = [model.layers[i].output for i in range(0,9)]\n",
    "model_v = Model(inputs=model.inputs, outputs=outputs)\n",
    "feature_maps = model_v.predict(image) #pass the image\n",
    "\n",
    "for i in range(len(feature_maps)):\n",
    "    print(i,feature_maps[i].shape)\n",
    "\n",
    "# plot the output from each block\n",
    "square = 8\n",
    "i = 0\n",
    "for fmap in feature_maps: \n",
    "    plt.figure(figsize=(20,max(20,20*fmap.shape[-1]//(square*square))))\n",
    "    # plot all maps in an nx8 squares\n",
    "    ix = 1\n",
    "    print('Layer {}:{}'.format(i,model.layers[i].name))\n",
    "    i+=1\n",
    "    for _ in range(fmap.shape[-1]//square):\n",
    "        for _ in range(square):\n",
    "            # specify subplot and turn of axis\n",
    "            ax = plt.subplot(fmap.shape[-1]//square, square, ix)\n",
    "            ax.set_xticks([])\n",
    "            ax.set_yticks([])\n",
    "            # plot filter channel in grayscale\n",
    "            plt.imshow(fmap[0, :, :, ix-1], cmap='gray')\n",
    "            ix += 1\n",
    "    # show the figure\n",
    "    plt.show()"
   ]
  },
  {
   "cell_type": "code",
   "execution_count": null,
   "id": "72f7984b",
   "metadata": {},
   "outputs": [],
   "source": []
  }
 ],
 "metadata": {
  "kernelspec": {
   "display_name": "Python 3",
   "language": "python",
   "name": "python3"
  },
  "language_info": {
   "codemirror_mode": {
    "name": "ipython",
    "version": 3
   },
   "file_extension": ".py",
   "mimetype": "text/x-python",
   "name": "python",
   "nbconvert_exporter": "python",
   "pygments_lexer": "ipython3",
   "version": "3.8.8"
  }
 },
 "nbformat": 4,
 "nbformat_minor": 5
}
