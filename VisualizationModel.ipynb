{
 "cells": [
  {
   "cell_type": "markdown",
   "id": "70fcfe89",
   "metadata": {},
   "source": [
    "# Draw ROC curve (AUC) "
   ]
  },
  {
   "cell_type": "code",
   "execution_count": null,
   "id": "9e4ea3fc",
   "metadata": {},
   "outputs": [],
   "source": [
    "from sklearn.metrics import roc_curve, auc\n",
    "\n",
    "#used one hot encoding\n",
    "y_score = model.predict(X_test)\n",
    "\n",
    "# Compute ROC curve and ROC area for each class\n",
    "fpr = dict()\n",
    "tpr = dict()\n",
    "roc_auc = dict()\n",
    "\n",
    "for i in range(nb_classes):\n",
    "    fpr[i], tpr[i], _ = roc_curve(y_test[:, i], y_score[:, i])\n",
    "    roc_auc[i] = auc(fpr[i], tpr[i])\n",
    "\n",
    "# Plot of a ROC curve for a specific class\n",
    "for i in range(nb_classes):\n",
    "    plt.figure()\n",
    "    plt.plot(fpr[i], tpr[i], color='orange', label='ROC curve (area = %0.2f)' % roc_auc[i])\n",
    "    plt.plot([0, 1], [0, 1], color='navy', lw=2, linestyle='--')\n",
    "    plt.xlim([0.0, 1.0])\n",
    "    plt.ylim([0.0, 1.05])\n",
    "    plt.xlabel('False Positive Rate')\n",
    "    plt.ylabel('True Positive Rate')\n",
    "    plt.title('ROC - '+ category_names[i])\n",
    "    plt.legend(loc=\"lower right\")\n",
    "    plt.show()"
   ]
  },
  {
   "cell_type": "markdown",
   "id": "9f194423",
   "metadata": {},
   "source": [
    "# Draw comparison curves of training and validation sets in loss and accuracy"
   ]
  },
  {
   "cell_type": "code",
   "execution_count": null,
   "id": "04f47c7c",
   "metadata": {},
   "outputs": [],
   "source": [
    "def history_plot(model_id, history):\n",
    "    plt.figure(figsize=(8,10)) \n",
    "    # plot loss\n",
    "    plt.subplot(2, 1, 1)\n",
    "    plt.title('Cross Entropy Loss - ' + model_id, fontsize = 12)\n",
    "    plt.plot(history.history['loss'], color='blue', label='train')\n",
    "    plt.plot(history.history['val_loss'], color='orange', label='val')\n",
    "    plt.xlabel(\"Epochs\",fontsize = 12)\n",
    "    plt.ylabel(\"Loss\", fontsize = 12)\n",
    "    plt.legend(loc='upper right')\n",
    "\n",
    "    # plot accuracy\n",
    "    plt.subplot(2, 1, 2)\n",
    "    plt.title('Classification Accuracy ' + model_id, fontsize = 10)\n",
    "    plt.plot(history.history['accuracy'], color='blue', label='train')\n",
    "    plt.plot(history.history['val_accuracy'], color='orange', label='val')\n",
    "    plt.xlabel(\"Epochs\", fontsize = 120)\n",
    "    plt.ylabel(\"Accuracy\", fontsize = 12)\n",
    "    plt.legend(loc='lower right')\n",
    "\n",
    "    plt.show()\n",
    "\n",
    "history_plot('CNN_base', history)"
   ]
  },
  {
   "cell_type": "markdown",
   "id": "457bb83f",
   "metadata": {},
   "source": [
    "# Draw confusion matrix for multi-class problem"
   ]
  },
  {
   "cell_type": "code",
   "execution_count": null,
   "id": "499b4e19",
   "metadata": {},
   "outputs": [],
   "source": [
    "def plot_cm(y_true, y_pred, figsize=(12,10)):\n",
    "    cm = confusion_matrix(y_true, y_pred, labels=np.unique(y_true))\n",
    "    cm_sum = np.sum(cm, axis=1, keepdims=True)\n",
    "    cm_perc = cm / cm_sum.astype(float) * 100\n",
    "    annot = np.empty_like(cm).astype(str)\n",
    "    nrows, ncols = cm.shape\n",
    "    for i in range(nrows):\n",
    "        for j in range(ncols):\n",
    "            c = cm[i, j]\n",
    "            p = cm_perc[i, j]\n",
    "            if i == j:\n",
    "                s = cm_sum[i]\n",
    "                annot[i, j] = '%d/%d' % (c, s)\n",
    "            elif c == 0:\n",
    "                annot[i, j] = ''\n",
    "            elif i<j:\n",
    "                annot[i, j] = '%d' % (c)\n",
    "            else:\n",
    "                annot[i, j] = '%d' % (c)\n",
    "    #cm = pd.DataFrame(cm, index=np.unique(y_true), columns=np.unique(y_true))\n",
    "    cm = pd.DataFrame(cm, index=category_names, columns=category_names)\n",
    "    cm.index.name = 'Actual'\n",
    "    cm.columns.name = 'Predicted'\n",
    "    fig, ax = plt.subplots(figsize=figsize)\n",
    "    sns.set(font_scale=1.4)\n",
    "    sns.heatmap(cm, cmap= \"YlGnBu\", annot=annot, fmt='', ax=ax, annot_kws={\"fontsize\":12})\n",
    "\n",
    "plot_cm( y_test.argmax(axis=1), predictions.argmax(axis=1)) #decode one hot encoding"
   ]
  }
 ],
 "metadata": {
  "kernelspec": {
   "display_name": "Python 3",
   "language": "python",
   "name": "python3"
  },
  "language_info": {
   "codemirror_mode": {
    "name": "ipython",
    "version": 3
   },
   "file_extension": ".py",
   "mimetype": "text/x-python",
   "name": "python",
   "nbconvert_exporter": "python",
   "pygments_lexer": "ipython3",
   "version": "3.8.8"
  }
 },
 "nbformat": 4,
 "nbformat_minor": 5
}
